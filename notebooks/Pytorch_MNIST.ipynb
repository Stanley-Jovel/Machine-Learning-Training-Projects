{
  "cells": [
    {
      "cell_type": "code",
      "execution_count": 1,
      "metadata": {
        "colab": {
          "base_uri": "https://localhost:8080/"
        },
        "id": "PtKvmZx-WmUu",
        "outputId": "a93530e1-34b2-4870-fd17-d9b981aa0e05"
      },
      "outputs": [
        {
          "name": "stdout",
          "output_type": "stream",
          "text": [
            "Requirement already satisfied: torch in /usr/local/lib/python3.10/dist-packages (2.0.1+cu118)\n",
            "Requirement already satisfied: filelock in /usr/local/lib/python3.10/dist-packages (from torch) (3.12.2)\n",
            "Requirement already satisfied: typing-extensions in /usr/local/lib/python3.10/dist-packages (from torch) (4.5.0)\n",
            "Requirement already satisfied: sympy in /usr/local/lib/python3.10/dist-packages (from torch) (1.12)\n",
            "Requirement already satisfied: networkx in /usr/local/lib/python3.10/dist-packages (from torch) (3.1)\n",
            "Requirement already satisfied: jinja2 in /usr/local/lib/python3.10/dist-packages (from torch) (3.1.2)\n",
            "Requirement already satisfied: triton==2.0.0 in /usr/local/lib/python3.10/dist-packages (from torch) (2.0.0)\n",
            "Requirement already satisfied: cmake in /usr/local/lib/python3.10/dist-packages (from triton==2.0.0->torch) (3.27.4.1)\n",
            "Requirement already satisfied: lit in /usr/local/lib/python3.10/dist-packages (from triton==2.0.0->torch) (16.0.6)\n",
            "Requirement already satisfied: MarkupSafe>=2.0 in /usr/local/lib/python3.10/dist-packages (from jinja2->torch) (2.1.3)\n",
            "Requirement already satisfied: mpmath>=0.19 in /usr/local/lib/python3.10/dist-packages (from sympy->torch) (1.3.0)\n",
            "Requirement already satisfied: torchvision in /usr/local/lib/python3.10/dist-packages (0.15.2+cu118)\n",
            "Requirement already satisfied: numpy in /usr/local/lib/python3.10/dist-packages (from torchvision) (1.23.5)\n",
            "Requirement already satisfied: requests in /usr/local/lib/python3.10/dist-packages (from torchvision) (2.31.0)\n",
            "Requirement already satisfied: torch==2.0.1 in /usr/local/lib/python3.10/dist-packages (from torchvision) (2.0.1+cu118)\n",
            "Requirement already satisfied: pillow!=8.3.*,>=5.3.0 in /usr/local/lib/python3.10/dist-packages (from torchvision) (9.4.0)\n",
            "Requirement already satisfied: filelock in /usr/local/lib/python3.10/dist-packages (from torch==2.0.1->torchvision) (3.12.2)\n",
            "Requirement already satisfied: typing-extensions in /usr/local/lib/python3.10/dist-packages (from torch==2.0.1->torchvision) (4.5.0)\n",
            "Requirement already satisfied: sympy in /usr/local/lib/python3.10/dist-packages (from torch==2.0.1->torchvision) (1.12)\n",
            "Requirement already satisfied: networkx in /usr/local/lib/python3.10/dist-packages (from torch==2.0.1->torchvision) (3.1)\n",
            "Requirement already satisfied: jinja2 in /usr/local/lib/python3.10/dist-packages (from torch==2.0.1->torchvision) (3.1.2)\n",
            "Requirement already satisfied: triton==2.0.0 in /usr/local/lib/python3.10/dist-packages (from torch==2.0.1->torchvision) (2.0.0)\n",
            "Requirement already satisfied: cmake in /usr/local/lib/python3.10/dist-packages (from triton==2.0.0->torch==2.0.1->torchvision) (3.27.4.1)\n",
            "Requirement already satisfied: lit in /usr/local/lib/python3.10/dist-packages (from triton==2.0.0->torch==2.0.1->torchvision) (16.0.6)\n",
            "Requirement already satisfied: charset-normalizer<4,>=2 in /usr/local/lib/python3.10/dist-packages (from requests->torchvision) (3.2.0)\n",
            "Requirement already satisfied: idna<4,>=2.5 in /usr/local/lib/python3.10/dist-packages (from requests->torchvision) (3.4)\n",
            "Requirement already satisfied: urllib3<3,>=1.21.1 in /usr/local/lib/python3.10/dist-packages (from requests->torchvision) (2.0.4)\n",
            "Requirement already satisfied: certifi>=2017.4.17 in /usr/local/lib/python3.10/dist-packages (from requests->torchvision) (2023.7.22)\n",
            "Requirement already satisfied: MarkupSafe>=2.0 in /usr/local/lib/python3.10/dist-packages (from jinja2->torch==2.0.1->torchvision) (2.1.3)\n",
            "Requirement already satisfied: mpmath>=0.19 in /usr/local/lib/python3.10/dist-packages (from sympy->torch==2.0.1->torchvision) (1.3.0)\n"
          ]
        }
      ],
      "source": [
        "#@title Insatlling Pyorch\n",
        "\n",
        "%pip install torch\n",
        "%pip install torchvision"
      ]
    },
    {
      "cell_type": "code",
      "execution_count": 2,
      "metadata": {
        "id": "bGU6NwlsXFSt"
      },
      "outputs": [],
      "source": [
        "#@title Import Dependencies\n",
        "\n",
        "import torch\n",
        "import torch.nn as nn\n",
        "import torchvision.datasets as dsets\n",
        "import torchvision.transforms as transforms\n",
        "from torch.autograd import Variable"
      ]
    },
    {
      "cell_type": "code",
      "execution_count": 3,
      "metadata": {
        "id": "_bNfVLRUYqZA"
      },
      "outputs": [],
      "source": [
        "#@title Define Hyperparameters\n",
        "\n",
        "input_size = 784 # img_size = (28,28) ---> 28*28=784 in total\n",
        "hidden_size = 500 # number of nodes at hidden layer\n",
        "num_classes = 10 # number of output classes discrete range [0,9]\n",
        "num_epochs = 20 # number of times which the entire dataset is passed throughout the model\n",
        "batch_size = 100 # the size of input data took for one iteration\n",
        "lr = 1e-3 # size of step"
      ]
    },
    {
      "cell_type": "code",
      "execution_count": 4,
      "metadata": {
        "colab": {
          "base_uri": "https://localhost:8080/"
        },
        "id": "lCsBCXMwbpH5",
        "outputId": "7b29bba3-d68b-41bf-8ac2-fdce3fea2769"
      },
      "outputs": [
        {
          "name": "stdout",
          "output_type": "stream",
          "text": [
            "Downloading http://yann.lecun.com/exdb/mnist/train-images-idx3-ubyte.gz\n",
            "Downloading http://yann.lecun.com/exdb/mnist/train-images-idx3-ubyte.gz to ./data/MNIST/raw/train-images-idx3-ubyte.gz\n"
          ]
        },
        {
          "name": "stderr",
          "output_type": "stream",
          "text": [
            "100%|██████████| 9912422/9912422 [00:00<00:00, 89349988.60it/s]\n"
          ]
        },
        {
          "name": "stdout",
          "output_type": "stream",
          "text": [
            "Extracting ./data/MNIST/raw/train-images-idx3-ubyte.gz to ./data/MNIST/raw\n",
            "\n",
            "Downloading http://yann.lecun.com/exdb/mnist/train-labels-idx1-ubyte.gz\n",
            "Downloading http://yann.lecun.com/exdb/mnist/train-labels-idx1-ubyte.gz to ./data/MNIST/raw/train-labels-idx1-ubyte.gz\n"
          ]
        },
        {
          "name": "stderr",
          "output_type": "stream",
          "text": [
            "100%|██████████| 28881/28881 [00:00<00:00, 23161700.54it/s]\n"
          ]
        },
        {
          "name": "stdout",
          "output_type": "stream",
          "text": [
            "Extracting ./data/MNIST/raw/train-labels-idx1-ubyte.gz to ./data/MNIST/raw\n",
            "\n",
            "Downloading http://yann.lecun.com/exdb/mnist/t10k-images-idx3-ubyte.gz\n",
            "Downloading http://yann.lecun.com/exdb/mnist/t10k-images-idx3-ubyte.gz to ./data/MNIST/raw/t10k-images-idx3-ubyte.gz\n"
          ]
        },
        {
          "name": "stderr",
          "output_type": "stream",
          "text": [
            "100%|██████████| 1648877/1648877 [00:00<00:00, 29291096.05it/s]\n"
          ]
        },
        {
          "name": "stdout",
          "output_type": "stream",
          "text": [
            "Extracting ./data/MNIST/raw/t10k-images-idx3-ubyte.gz to ./data/MNIST/raw\n",
            "\n",
            "Downloading http://yann.lecun.com/exdb/mnist/t10k-labels-idx1-ubyte.gz\n",
            "Downloading http://yann.lecun.com/exdb/mnist/t10k-labels-idx1-ubyte.gz to ./data/MNIST/raw/t10k-labels-idx1-ubyte.gz\n"
          ]
        },
        {
          "name": "stderr",
          "output_type": "stream",
          "text": [
            "100%|██████████| 4542/4542 [00:00<00:00, 3742001.33it/s]\n"
          ]
        },
        {
          "name": "stdout",
          "output_type": "stream",
          "text": [
            "Extracting ./data/MNIST/raw/t10k-labels-idx1-ubyte.gz to ./data/MNIST/raw\n",
            "\n"
          ]
        }
      ],
      "source": [
        "#@title Downloading MNIST data\n",
        "\n",
        "train_data = dsets.MNIST(root = './data', train = True,\n",
        "                        transform = transforms.ToTensor(), download = True)\n",
        "\n",
        "test_data = dsets.MNIST(root = './data', train = False,\n",
        "                       transform = transforms.ToTensor())"
      ]
    },
    {
      "cell_type": "code",
      "execution_count": 5,
      "metadata": {
        "id": "rfDPBdnYgfGp"
      },
      "outputs": [],
      "source": [
        "#@title Loading the data\n",
        "\n",
        "train_gen = torch.utils.data.DataLoader(dataset = train_data,\n",
        "                                             batch_size = batch_size,\n",
        "                                             shuffle = True)\n",
        "\n",
        "test_gen = torch.utils.data.DataLoader(dataset = test_data,\n",
        "                                      batch_size = batch_size,\n",
        "                                      shuffle = False)"
      ]
    },
    {
      "cell_type": "code",
      "execution_count": 6,
      "metadata": {
        "id": "fL-YXTvghaz_"
      },
      "outputs": [],
      "source": [
        "#@title Define model class\n",
        "\n",
        "class Net(nn.Module):\n",
        "  def __init__(self, input_size, hidden_size, num_classes):\n",
        "    super(Net,self).__init__()\n",
        "    self.fc1 = nn.Linear(input_size, hidden_size)\n",
        "    self.relu = nn.ReLU()\n",
        "    self.fc2 = nn.Linear(hidden_size, num_classes)\n",
        "\n",
        "  def forward(self,x):\n",
        "    out = self.fc1(x)\n",
        "    out = self.relu(out)\n",
        "    out = self.fc2(out)\n",
        "    return out"
      ]
    },
    {
      "cell_type": "code",
      "execution_count": 7,
      "metadata": {
        "id": "-3EPEqbjjfAT"
      },
      "outputs": [],
      "source": [
        "#@title Build the model\n",
        "\n",
        "net = Net(input_size, hidden_size, num_classes)\n",
        "if torch.cuda.is_available():\n",
        "  net.cuda()"
      ]
    },
    {
      "cell_type": "code",
      "execution_count": 8,
      "metadata": {
        "id": "ePLIwvAFj2zH"
      },
      "outputs": [],
      "source": [
        "#@title Define loss-function & optimizer\n",
        "\n",
        "loss_function = nn.CrossEntropyLoss()\n",
        "optimizer = torch.optim.Adam( net.parameters(), lr=lr)"
      ]
    },
    {
      "cell_type": "code",
      "execution_count": 9,
      "metadata": {
        "colab": {
          "base_uri": "https://localhost:8080/"
        },
        "id": "u75Xa5VckuTH",
        "outputId": "932f2765-82f6-4c16-8034-913adf587031"
      },
      "outputs": [
        {
          "name": "stdout",
          "output_type": "stream",
          "text": [
            "Epoch [1/20], Step [100/600], Loss: 0.4256\n",
            "Epoch [1/20], Step [200/600], Loss: 0.1835\n",
            "Epoch [1/20], Step [300/600], Loss: 0.2115\n",
            "Epoch [1/20], Step [400/600], Loss: 0.2651\n",
            "Epoch [1/20], Step [500/600], Loss: 0.1381\n",
            "Epoch [1/20], Step [600/600], Loss: 0.2147\n",
            "Epoch [2/20], Step [100/600], Loss: 0.0942\n",
            "Epoch [2/20], Step [200/600], Loss: 0.0574\n",
            "Epoch [2/20], Step [300/600], Loss: 0.0851\n",
            "Epoch [2/20], Step [400/600], Loss: 0.1098\n",
            "Epoch [2/20], Step [500/600], Loss: 0.1020\n",
            "Epoch [2/20], Step [600/600], Loss: 0.1546\n",
            "Epoch [3/20], Step [100/600], Loss: 0.0159\n",
            "Epoch [3/20], Step [200/600], Loss: 0.0454\n",
            "Epoch [3/20], Step [300/600], Loss: 0.0308\n",
            "Epoch [3/20], Step [400/600], Loss: 0.0190\n",
            "Epoch [3/20], Step [500/600], Loss: 0.0834\n",
            "Epoch [3/20], Step [600/600], Loss: 0.0651\n",
            "Epoch [4/20], Step [100/600], Loss: 0.0551\n",
            "Epoch [4/20], Step [200/600], Loss: 0.0325\n",
            "Epoch [4/20], Step [300/600], Loss: 0.0278\n",
            "Epoch [4/20], Step [400/600], Loss: 0.0798\n",
            "Epoch [4/20], Step [500/600], Loss: 0.0615\n",
            "Epoch [4/20], Step [600/600], Loss: 0.0595\n",
            "Epoch [5/20], Step [100/600], Loss: 0.0652\n",
            "Epoch [5/20], Step [200/600], Loss: 0.0175\n",
            "Epoch [5/20], Step [300/600], Loss: 0.0184\n",
            "Epoch [5/20], Step [400/600], Loss: 0.0285\n",
            "Epoch [5/20], Step [500/600], Loss: 0.0293\n",
            "Epoch [5/20], Step [600/600], Loss: 0.0453\n",
            "Epoch [6/20], Step [100/600], Loss: 0.0486\n",
            "Epoch [6/20], Step [200/600], Loss: 0.0255\n",
            "Epoch [6/20], Step [300/600], Loss: 0.0566\n",
            "Epoch [6/20], Step [400/600], Loss: 0.0320\n",
            "Epoch [6/20], Step [500/600], Loss: 0.0182\n",
            "Epoch [6/20], Step [600/600], Loss: 0.0545\n",
            "Epoch [7/20], Step [100/600], Loss: 0.0043\n",
            "Epoch [7/20], Step [200/600], Loss: 0.0112\n",
            "Epoch [7/20], Step [300/600], Loss: 0.0153\n",
            "Epoch [7/20], Step [400/600], Loss: 0.0190\n",
            "Epoch [7/20], Step [500/600], Loss: 0.0090\n",
            "Epoch [7/20], Step [600/600], Loss: 0.0189\n",
            "Epoch [8/20], Step [100/600], Loss: 0.0087\n",
            "Epoch [8/20], Step [200/600], Loss: 0.0061\n",
            "Epoch [8/20], Step [300/600], Loss: 0.0051\n",
            "Epoch [8/20], Step [400/600], Loss: 0.0092\n",
            "Epoch [8/20], Step [500/600], Loss: 0.0111\n",
            "Epoch [8/20], Step [600/600], Loss: 0.0189\n",
            "Epoch [9/20], Step [100/600], Loss: 0.0081\n",
            "Epoch [9/20], Step [200/600], Loss: 0.0188\n",
            "Epoch [9/20], Step [300/600], Loss: 0.0152\n",
            "Epoch [9/20], Step [400/600], Loss: 0.0168\n",
            "Epoch [9/20], Step [500/600], Loss: 0.0102\n",
            "Epoch [9/20], Step [600/600], Loss: 0.0317\n",
            "Epoch [10/20], Step [100/600], Loss: 0.0029\n",
            "Epoch [10/20], Step [200/600], Loss: 0.0113\n",
            "Epoch [10/20], Step [300/600], Loss: 0.0014\n",
            "Epoch [10/20], Step [400/600], Loss: 0.0061\n",
            "Epoch [10/20], Step [500/600], Loss: 0.0105\n",
            "Epoch [10/20], Step [600/600], Loss: 0.0027\n",
            "Epoch [11/20], Step [100/600], Loss: 0.0048\n",
            "Epoch [11/20], Step [200/600], Loss: 0.0017\n",
            "Epoch [11/20], Step [300/600], Loss: 0.0045\n",
            "Epoch [11/20], Step [400/600], Loss: 0.0227\n",
            "Epoch [11/20], Step [500/600], Loss: 0.0057\n",
            "Epoch [11/20], Step [600/600], Loss: 0.0043\n",
            "Epoch [12/20], Step [100/600], Loss: 0.0031\n",
            "Epoch [12/20], Step [200/600], Loss: 0.0015\n",
            "Epoch [12/20], Step [300/600], Loss: 0.0007\n",
            "Epoch [12/20], Step [400/600], Loss: 0.0036\n",
            "Epoch [12/20], Step [500/600], Loss: 0.0058\n",
            "Epoch [12/20], Step [600/600], Loss: 0.0035\n",
            "Epoch [13/20], Step [100/600], Loss: 0.0069\n",
            "Epoch [13/20], Step [200/600], Loss: 0.0015\n",
            "Epoch [13/20], Step [300/600], Loss: 0.0021\n",
            "Epoch [13/20], Step [400/600], Loss: 0.0024\n",
            "Epoch [13/20], Step [500/600], Loss: 0.0022\n",
            "Epoch [13/20], Step [600/600], Loss: 0.0037\n",
            "Epoch [14/20], Step [100/600], Loss: 0.0053\n",
            "Epoch [14/20], Step [200/600], Loss: 0.0055\n",
            "Epoch [14/20], Step [300/600], Loss: 0.0005\n",
            "Epoch [14/20], Step [400/600], Loss: 0.0034\n",
            "Epoch [14/20], Step [500/600], Loss: 0.0045\n",
            "Epoch [14/20], Step [600/600], Loss: 0.0173\n",
            "Epoch [15/20], Step [100/600], Loss: 0.0088\n",
            "Epoch [15/20], Step [200/600], Loss: 0.0058\n",
            "Epoch [15/20], Step [300/600], Loss: 0.0003\n",
            "Epoch [15/20], Step [400/600], Loss: 0.0057\n",
            "Epoch [15/20], Step [500/600], Loss: 0.0010\n",
            "Epoch [15/20], Step [600/600], Loss: 0.0017\n",
            "Epoch [16/20], Step [100/600], Loss: 0.0047\n",
            "Epoch [16/20], Step [200/600], Loss: 0.0006\n",
            "Epoch [16/20], Step [300/600], Loss: 0.0020\n",
            "Epoch [16/20], Step [400/600], Loss: 0.0016\n",
            "Epoch [16/20], Step [500/600], Loss: 0.0022\n",
            "Epoch [16/20], Step [600/600], Loss: 0.0249\n",
            "Epoch [17/20], Step [100/600], Loss: 0.0019\n",
            "Epoch [17/20], Step [200/600], Loss: 0.0010\n",
            "Epoch [17/20], Step [300/600], Loss: 0.0054\n",
            "Epoch [17/20], Step [400/600], Loss: 0.0004\n",
            "Epoch [17/20], Step [500/600], Loss: 0.0038\n",
            "Epoch [17/20], Step [600/600], Loss: 0.0156\n",
            "Epoch [18/20], Step [100/600], Loss: 0.0009\n",
            "Epoch [18/20], Step [200/600], Loss: 0.0011\n",
            "Epoch [18/20], Step [300/600], Loss: 0.0040\n",
            "Epoch [18/20], Step [400/600], Loss: 0.0017\n",
            "Epoch [18/20], Step [500/600], Loss: 0.0128\n",
            "Epoch [18/20], Step [600/600], Loss: 0.0103\n",
            "Epoch [19/20], Step [100/600], Loss: 0.0217\n",
            "Epoch [19/20], Step [200/600], Loss: 0.0011\n",
            "Epoch [19/20], Step [300/600], Loss: 0.0016\n",
            "Epoch [19/20], Step [400/600], Loss: 0.0009\n",
            "Epoch [19/20], Step [500/600], Loss: 0.0009\n",
            "Epoch [19/20], Step [600/600], Loss: 0.0003\n",
            "Epoch [20/20], Step [100/600], Loss: 0.0002\n",
            "Epoch [20/20], Step [200/600], Loss: 0.0019\n",
            "Epoch [20/20], Step [300/600], Loss: 0.0033\n",
            "Epoch [20/20], Step [400/600], Loss: 0.0001\n",
            "Epoch [20/20], Step [500/600], Loss: 0.0040\n",
            "Epoch [20/20], Step [600/600], Loss: 0.0014\n"
          ]
        }
      ],
      "source": [
        "#@title Training the model\n",
        "\n",
        "for epoch in range(num_epochs):\n",
        "  for i ,(images,labels) in enumerate(train_gen):\n",
        "    images = Variable(images.view(-1,28*28)).cuda()\n",
        "    labels = Variable(labels).cuda()\n",
        "\n",
        "    optimizer.zero_grad()\n",
        "    outputs = net(images)\n",
        "    loss = loss_function(outputs, labels)\n",
        "    loss.backward()\n",
        "    optimizer.step()\n",
        "\n",
        "    if (i+1) % 100 == 0:\n",
        "      print('Epoch [%d/%d], Step [%d/%d], Loss: %.4f'\n",
        "                 %(epoch+1, num_epochs, i+1, len(train_data)//batch_size, loss.item()))"
      ]
    },
    {
      "cell_type": "code",
      "execution_count": 10,
      "metadata": {
        "colab": {
          "base_uri": "https://localhost:8080/"
        },
        "id": "DTPvMW5jHB9X",
        "outputId": "03b54b15-93e4-46c3-f59f-dc6838e6b7bd"
      },
      "outputs": [
        {
          "name": "stdout",
          "output_type": "stream",
          "text": [
            "Accuracy of the model: 97.910 %\n"
          ]
        }
      ],
      "source": [
        "#@title Evaluating the accuracy of the model\n",
        "\n",
        "correct = 0\n",
        "total = 0\n",
        "for images,labels in test_gen:\n",
        "  images = Variable(images.view(-1,28*28)).cuda()\n",
        "  labels = labels.cuda()\n",
        "\n",
        "  output = net(images)\n",
        "  _, predicted = torch.max(output,1)\n",
        "  correct += (predicted == labels).sum()\n",
        "  total += labels.size(0)\n",
        "\n",
        "print('Accuracy of the model: %.3f %%' %((100*correct)/(total+1)))"
      ]
    }
  ],
  "metadata": {
    "accelerator": "GPU",
    "colab": {
      "provenance": []
    },
    "kernelspec": {
      "display_name": "Python 3",
      "name": "python3"
    }
  },
  "nbformat": 4,
  "nbformat_minor": 0
}
